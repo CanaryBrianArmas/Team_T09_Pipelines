{
 "cells": [
  {
   "cell_type": "markdown",
   "metadata": {},
   "source": [
    "## Machine Learning Pipeline for Income Prediction"
   ]
  },
  {
   "cell_type": "markdown",
   "metadata": {},
   "source": [
    "This script implements a machine learning pipeline to predict income levels based on various features.\n",
    "\n",
    "The pipeline includes data preprocessing, feature transformation, model training, and evaluation."
   ]
  },
  {
   "cell_type": "code",
   "execution_count": 2,
   "metadata": {},
   "outputs": [],
   "source": [
    "import sys\n",
    "sys.path.append('../utils')\n",
    "from helpers import (load_data,\n",
    "                     save_model,\n",
    "                     train_pipeline,\n",
    "                     build_preprocessor,\n",
    "                     imbalanced_classification_pipeline,\n",
    "                     non_gaussian_pipeline)"
   ]
  },
  {
   "cell_type": "code",
   "execution_count": null,
   "metadata": {},
   "outputs": [],
   "source": [
    "if __name__ == \"__main__\":\n",
    "    # Pipeline principal\n",
    "    main_pipeline = train_pipeline()\n",
    "    \n",
    "    # Casos especiales\n",
    "    print(\"\\nTraining Non-Gaussian Pipeline:\")\n",
    "    poisson_model = non_gaussian_pipeline()\n",
    "    \n",
    "    print(\"\\nTraining Imbalanced Classification Pipeline:\")\n",
    "    imbalanced_model = imbalanced_classification_pipeline()"
   ]
  },
  {
   "cell_type": "markdown",
   "metadata": {},
   "source": [
    "### Training the model"
   ]
  }
 ],
 "metadata": {
  "kernelspec": {
   "display_name": "base",
   "language": "python",
   "name": "python3"
  },
  "language_info": {
   "codemirror_mode": {
    "name": "ipython",
    "version": 3
   },
   "file_extension": ".py",
   "mimetype": "text/x-python",
   "name": "python",
   "nbconvert_exporter": "python",
   "pygments_lexer": "ipython3",
   "version": "3.12.4"
  }
 },
 "nbformat": 4,
 "nbformat_minor": 2
}
