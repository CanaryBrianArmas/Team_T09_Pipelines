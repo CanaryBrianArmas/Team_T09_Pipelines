{
 "cells": [
  {
   "cell_type": "markdown",
   "metadata": {},
   "source": [
    "## Machine Learning Pipeline for Income Prediction"
   ]
  },
  {
   "cell_type": "markdown",
   "metadata": {},
   "source": [
    "This script implements a machine learning pipeline to predict income levels based on various features.\n",
    "\n",
    "The pipeline includes data preprocessing, feature transformation, model training, and evaluation."
   ]
  },
  {
   "cell_type": "code",
   "execution_count": null,
   "metadata": {},
   "outputs": [],
   "source": [
    "from src.utils.utils import load_data, save_model,"
   ]
  },
  {
   "cell_type": "code",
   "execution_count": null,
   "metadata": {},
   "outputs": [],
   "source": [
    "if __name__ == \"__main__\":\n",
    "    # Pipeline principal\n",
    "    main_pipeline = train_pipeline()\n",
    "    \n",
    "    # Casos especiales\n",
    "    print(\"\\nTraining Non-Gaussian Pipeline:\")\n",
    "    poisson_model = non_gaussian_pipeline()\n",
    "    \n",
    "    print(\"\\nTraining Imbalanced Classification Pipeline:\")\n",
    "    imbalanced_model = imbalanced_classification_pipeline()"
   ]
  },
  {
   "cell_type": "markdown",
   "metadata": {},
   "source": [
    "### Training the model"
   ]
  }
 ],
 "metadata": {
  "language_info": {
   "name": "python"
  }
 },
 "nbformat": 4,
 "nbformat_minor": 2
}
