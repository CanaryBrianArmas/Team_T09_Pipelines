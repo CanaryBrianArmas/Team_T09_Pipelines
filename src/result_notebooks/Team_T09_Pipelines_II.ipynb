{
 "cells": [
  {
   "cell_type": "code",
   "execution_count": 8,
   "metadata": {},
   "outputs": [],
   "source": [
    "import sys\n",
    "sys.path.append('../utils')\n",
    "from helpers import (load_data, drop_transform_data,\n",
    "                     load_model, make_predictions,\n",
    "                     evaluate_model, save_results,\n",
    "                     show_stats)"
   ]
  },
  {
   "cell_type": "code",
   "execution_count": 9,
   "metadata": {},
   "outputs": [
    {
     "name": "stdout",
     "output_type": "stream",
     "text": [
      "Successfully loaded model from ../models/best_regression_pipeline_model.pkl\n"
     ]
    }
   ],
   "source": [
    "# load the model\n",
    "model = load_model('../models/best_regression_pipeline_model.pkl')"
   ]
  },
  {
   "cell_type": "code",
   "execution_count": 10,
   "metadata": {},
   "outputs": [
    {
     "name": "stdout",
     "output_type": "stream",
     "text": [
      "Loaded data with shape: (1799, 14)\n"
     ]
    }
   ],
   "source": [
    "# load data\n",
    "test_data = load_data('../data/test.csv')"
   ]
  },
  {
   "cell_type": "code",
   "execution_count": 11,
   "metadata": {},
   "outputs": [],
   "source": [
    "# drop and transform columns\n",
    "test_df = drop_transform_data(test_data)\n"
   ]
  },
  {
   "cell_type": "code",
   "execution_count": 12,
   "metadata": {},
   "outputs": [
    {
     "name": "stdout",
     "output_type": "stream",
     "text": [
      "<class 'pandas.core.frame.DataFrame'>\n",
      "RangeIndex: 1799 entries, 0 to 1798\n",
      "Data columns (total 11 columns):\n",
      " #   Column          Non-Null Count  Dtype  \n",
      "---  ------          --------------  -----  \n",
      " 0   INCOME          1799 non-null   float64\n",
      " 1   SEX             1799 non-null   object \n",
      " 2   MARITAL.STATUS  1767 non-null   object \n",
      " 3   AGE             1799 non-null   float64\n",
      " 4   EDUCATION       1377 non-null   float64\n",
      " 5   OCCUPATION      1770 non-null   object \n",
      " 6   DUAL.INCOMES    710 non-null    float64\n",
      " 7   HOUSEHOLD.SIZE  1727 non-null   float64\n",
      " 8   HOUSEHOLDER     1757 non-null   object \n",
      " 9   ETHNIC.CLASS    1785 non-null   object \n",
      " 10  LANGUAGE        1730 non-null   object \n",
      "dtypes: float64(5), object(6)\n",
      "memory usage: 154.7+ KB\n",
      "None\n"
     ]
    },
    {
     "data": {
      "image/png": "[encoded data removed]",
      "text/plain": [
       "<Figure size 640x480 with 1 Axes>"
      ]
     },
     "metadata": {},
     "output_type": "display_data"
    }
   ],
   "source": [
    "# show stats and target\n",
    "show_stats(test_df)"
   ]
  },
  {
   "cell_type": "code",
   "execution_count": 13,
   "metadata": {},
   "outputs": [
    {
     "name": "stdout",
     "output_type": "stream",
     "text": [
      "Generated 1799 predictions\n"
     ]
    }
   ],
   "source": [
    "# Make predictions\n",
    "predictions = make_predictions(model, test_df)"
   ]
  },
  {
   "cell_type": "code",
   "execution_count": 14,
   "metadata": {},
   "outputs": [
    {
     "name": "stdout",
     "output_type": "stream",
     "text": [
      "Regression Metrics:\n",
      "MSE: 256.774\n",
      "RMSE: 16.024\n",
      "R²: 0.517\n"
     ]
    }
   ],
   "source": [
    "evaluate_model(test_df[\"INCOME\"], predictions)"
   ]
  },
  {
   "cell_type": "code",
   "execution_count": 15,
   "metadata": {},
   "outputs": [
    {
     "name": "stdout",
     "output_type": "stream",
     "text": [
      "Predictions saved to ./regression_predictions.csv\n"
     ]
    }
   ],
   "source": [
    "save_results(predictions, './regression_predictions.csv')"
   ]
  }
 ],
 "metadata": {
  "kernelspec": {
   "display_name": "base",
   "language": "python",
   "name": "python3"
  },
  "language_info": {
   "codemirror_mode": {
    "name": "ipython",
    "version": 3
   },
   "file_extension": ".py",
   "mimetype": "text/x-python",
   "name": "python",
   "nbconvert_exporter": "python",
   "pygments_lexer": "ipython3",
   "version": "3.12.4"
  }
 },
 "nbformat": 4,
 "nbformat_minor": 2
}
