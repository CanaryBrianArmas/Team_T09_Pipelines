{
 "cells": [
  {
   "cell_type": "code",
   "execution_count": null,
   "metadata": {},
   "outputs": [],
   "source": [
    "import numpy as np\n",
    "import pandas as pd\n",
    "import joblib\n",
    "\n",
    "# Documentation Header\n",
    "\"\"\"\n",
    "### Load and Use the Trained Model for Predictions\n",
    "\n",
    "This script loads the trained model and makes predictions on new data.\n",
    "\n",
    "Steps:\n",
    "1. Load the trained model from file.\n",
    "2. Load the new dataset.\n",
    "3. Preprocess the dataset (ensure it matches the training format).\n",
    "4. Make predictions using the trained model.\n",
    "5. Save the predictions if necessary.\n",
    "\"\"\"\n",
    "\n",
    "# Load the trained model\n",
    "model_path = \"./src/models/best_model.joblib\"\n",
    "model = joblib.load(model_path)\n",
    "print(f\"Model loaded from {model_path}\")\n",
    "\n",
    "# Load new data (replace with actual file path)\n",
    "new_data_path = \"./src/data/new_data.csv\"\n",
    "df_new = pd.read_csv(new_data_path)\n",
    "\n",
    "# Ensure the new data does not contain the target column\n",
    "if \"INCOME\" in df_new.columns:\n",
    "    df_new = df_new.drop(columns=[\"INCOME\"])\n",
    "\n",
    "# Make predictions\n",
    "predictions = model.predict(df_new)\n",
    "\n",
    "# Add predictions to the dataframe\n",
    "df_new[\"Predicted_INCOME\"] = predictions\n",
    "\n",
    "# Save the predictions\n",
    "output_path = \"./src/data/predictions.csv\"\n",
    "df_new.to_csv(output_path, index=False)\n",
    "print(f\"Predictions saved to {output_path}\")\n"
   ]
  }
 ],
 "metadata": {
  "language_info": {
   "name": "python"
  }
 },
 "nbformat": 4,
 "nbformat_minor": 2
}
