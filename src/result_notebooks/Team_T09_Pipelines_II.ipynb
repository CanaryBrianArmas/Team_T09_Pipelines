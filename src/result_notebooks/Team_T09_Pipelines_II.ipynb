{
 "cells": [
  {
   "cell_type": "code",
   "execution_count": null,
   "metadata": {},
   "outputs": [],
   "source": [
    "import pandas as pd\n",
    "import numpy as np\n",
    "import joblib\n",
    "import matplotlib.pyplot as plt\n",
    "import seaborn as sns\n",
    "import os\n",
    "from sklearn.metrics import (\n",
    "    accuracy_score, \n",
    "    precision_score, \n",
    "    recall_score, \n",
    "    f1_score,\n",
    "    roc_auc_score,\n",
    "    mean_squared_error,\n",
    "    r2_score\n",
    ")\n",
    "\n",
    "from sklearn.metrics import classification_report, confusion_matrix\n",
    "from helpers import (load_model, load_test_data, evaluate_model,\n",
    "                     save_results, make_predictions)\n",
    "\n",
    "import sys\n",
    "sys.path.append(\"../utils\")\n",
    "\n",
    "if __name__ == \"__main__\":\n",
    "    # Load artifacts\n",
    "    model = load_model('../models/best_pipeline.pkl')\n",
    "    X_test, y_test = load_test_data('../data/test.csv')\n",
    "    \n",
    "    # Generate predictions\n",
    "    predictions = make_predictions(model, X_test)\n",
    "    \n",
    "    # For classification: get probabilities if available\n",
    "    proba_predictions = None\n",
    "    if hasattr(model, 'predict_proba'):\n",
    "        proba_predictions = model.predict_proba(X_test)[:, 1]\n",
    "    \n",
    "    # Evaluate performance\n",
    "    evaluate_model(y_test, predictions, proba_predictions)\n",
    "    \n",
    "    # Save results\n",
    "    save_results(predictions, '../results/predictions.csv')\n",
    "    print(\"Evaluation process completed!\")\n"
   ]
  }
 ],
 "metadata": {
  "language_info": {
   "name": "python"
  }
 },
 "nbformat": 4,
 "nbformat_minor": 2
}
